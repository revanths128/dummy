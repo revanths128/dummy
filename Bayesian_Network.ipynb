{
 "cells": [
  {
   "cell_type": "code",
   "execution_count": 17,
   "id": "21483619",
   "metadata": {},
   "outputs": [
    {
     "name": "stdout",
     "output_type": "stream",
     "text": [
      "Probability distribution, P(Burglary)\n",
      "+-------------+-------+\n",
      "| Burglary(0) | 0.001 |\n",
      "+-------------+-------+\n",
      "| Burglary(1) | 0.999 |\n",
      "+-------------+-------+\n",
      "\n",
      "Probability distribution, P(Earthquake)\n",
      "+---------------+-------+\n",
      "| Earthquake(0) | 0.002 |\n",
      "+---------------+-------+\n",
      "| Earthquake(1) | 0.998 |\n",
      "+---------------+-------+\n",
      "\n",
      "Joint probability distribution, P(Alarm | Burglary, Earthquake)\n",
      "+------------+---------------+---------------+---------------+---------------+\n",
      "| Burglary   | Burglary(0)   | Burglary(0)   | Burglary(1)   | Burglary(1)   |\n",
      "+------------+---------------+---------------+---------------+---------------+\n",
      "| Earthquake | Earthquake(0) | Earthquake(1) | Earthquake(0) | Earthquake(1) |\n",
      "+------------+---------------+---------------+---------------+---------------+\n",
      "| Alarm(0)   | 0.95          | 0.94          | 0.29          | 0.001         |\n",
      "+------------+---------------+---------------+---------------+---------------+\n",
      "| Alarm(1)   | 0.05          | 0.06          | 0.71          | 0.999         |\n",
      "+------------+---------------+---------------+---------------+---------------+\n",
      "\n",
      "Joint probability distribution, P(JohnCalls | Alarm)\n",
      "+--------------+----------+----------+\n",
      "| Alarm        | Alarm(0) | Alarm(1) |\n",
      "+--------------+----------+----------+\n",
      "| JohnCalls(0) | 0.9      | 0.05     |\n",
      "+--------------+----------+----------+\n",
      "| JohnCalls(1) | 0.1      | 0.95     |\n",
      "+--------------+----------+----------+\n",
      "\n",
      "Joint probability distribution, P(MaryCalls | Alarm)\n",
      "+--------------+----------+----------+\n",
      "| Alarm        | Alarm(0) | Alarm(1) |\n",
      "+--------------+----------+----------+\n",
      "| MaryCalls(0) | 0.7      | 0.01     |\n",
      "+--------------+----------+----------+\n",
      "| MaryCalls(1) | 0.3      | 0.99     |\n",
      "+--------------+----------+----------+\n",
      "\n"
     ]
    },
    {
     "data": {
      "application/vnd.jupyter.widget-view+json": {
       "model_id": "62509cf049204c9da3bc98deb1034c44",
       "version_major": 2,
       "version_minor": 0
      },
      "text/plain": [
       "  0%|          | 0/2 [00:00<?, ?it/s]"
      ]
     },
     "metadata": {},
     "output_type": "display_data"
    },
    {
     "data": {
      "application/vnd.jupyter.widget-view+json": {
       "model_id": "bd79392680ed46eb889264c3aa3cbaa8",
       "version_major": 2,
       "version_minor": 0
      },
      "text/plain": [
       "  0%|          | 0/2 [00:00<?, ?it/s]"
      ]
     },
     "metadata": {},
     "output_type": "display_data"
    },
    {
     "name": "stdout",
     "output_type": "stream",
     "text": [
      "Posterior probability of Burglary if JohnCalls(True) and MaryCalls(True)\n",
      "+-------------+-----------------+\n",
      "| Burglary    |   phi(Burglary) |\n",
      "+=============+=================+\n",
      "| Burglary(0) |          0.0051 |\n",
      "+-------------+-----------------+\n",
      "| Burglary(1) |          0.9949 |\n",
      "+-------------+-----------------+\n",
      "\n"
     ]
    },
    {
     "data": {
      "application/vnd.jupyter.widget-view+json": {
       "model_id": "1f46470b778649b3bb94530e29b83480",
       "version_major": 2,
       "version_minor": 0
      },
      "text/plain": [
       "0it [00:00, ?it/s]"
      ]
     },
     "metadata": {},
     "output_type": "display_data"
    },
    {
     "data": {
      "application/vnd.jupyter.widget-view+json": {
       "model_id": "cc0a870c39ed4dfe8e1a158192362a75",
       "version_major": 2,
       "version_minor": 0
      },
      "text/plain": [
       "0it [00:00, ?it/s]"
      ]
     },
     "metadata": {},
     "output_type": "display_data"
    },
    {
     "name": "stdout",
     "output_type": "stream",
     "text": [
      "Posterior probability of Alarm sounding if Burglary(True) and Earthquake(True)\n",
      "+----------+--------------+\n",
      "| Alarm    |   phi(Alarm) |\n",
      "+==========+==============+\n",
      "| Alarm(0) |       0.2900 |\n",
      "+----------+--------------+\n",
      "| Alarm(1) |       0.7100 |\n",
      "+----------+--------------+\n",
      "\n"
     ]
    }
   ],
   "source": [
    "import pgmpy.models\n",
    "import pgmpy.inference\n",
    "import networkx as nx\n",
    "import pylab as plt\n",
    "# Create a bayesian network \n",
    "model = pgmpy.models.BayesianModel([('Burglary', 'Alarm'), \n",
    "                                    ('Earthquake', 'Alarm'),\n",
    "                                    ('Alarm', 'JohnCalls'), \n",
    "                                    ('Alarm', 'MaryCalls')])\n",
    "# Define conditional probability distributions (CPD)\n",
    "# Probability of burglary (True, False)\n",
    "cpd_burglary = pgmpy.factors.discrete.TabularCPD('Burglary', 2, [[0.001], [0.999]])\n",
    "# Probability of earthquake (True, False)\n",
    "cpd_earthquake = pgmpy.factors.discrete.TabularCPD('Earthquake', 2, [[0.002], [0.998]])\n",
    "# Probability of alarm going of (True, False) given a burglary and/or earthquake\n",
    "cpd_alarm = pgmpy.factors.discrete.TabularCPD('Alarm', 2, [[0.95, 0.94, 0.29, 0.001], \n",
    "                                                           [0.05, 0.06, 0.71, 0.999]], \n",
    "                                              evidence=['Burglary', 'Earthquake'], \n",
    "                                              evidence_card=[2, 2])\n",
    "# Probability that John calls (True, False) given that the alarm has sounded\n",
    "cpd_john = pgmpy.factors.discrete.TabularCPD('JohnCalls', 2, [[0.90, 0.05], \n",
    "                                                           [0.10, 0.95]], \n",
    "                                              evidence=['Alarm'], \n",
    "                                              evidence_card=[2])\n",
    "# Probability that Mary calls (True, False) given that the alarm has sounded\n",
    "cpd_mary = pgmpy.factors.discrete.TabularCPD('MaryCalls', 2, [[0.70, 0.01], \n",
    "                                                           [0.30, 0.99]], \n",
    "                                              evidence=['Alarm'], \n",
    "                                              evidence_card=[2])\n",
    "# Add CPDs to the network structure\n",
    "model.add_cpds(cpd_burglary, cpd_earthquake, cpd_alarm, cpd_john, cpd_mary)\n",
    "# Check if the model is valid, throw an exception otherwise\n",
    "model.check_model()\n",
    "# Print probability distributions\n",
    "print('Probability distribution, P(Burglary)')\n",
    "print(cpd_burglary)\n",
    "print()\n",
    "print('Probability distribution, P(Earthquake)')\n",
    "print(cpd_earthquake)\n",
    "print()\n",
    "print('Joint probability distribution, P(Alarm | Burglary, Earthquake)')\n",
    "print(cpd_alarm)\n",
    "print()\n",
    "print('Joint probability distribution, P(JohnCalls | Alarm)')\n",
    "print(cpd_john)\n",
    "print()\n",
    "print('Joint probability distribution, P(MaryCalls | Alarm)')\n",
    "print(cpd_mary)\n",
    "print()\n",
    "# Plot the model\n",
    "nx.draw(model, with_labels=True)\n",
    "plt.savefig('C:\\\\Users\\\\admin\\\\Desktop\\\\alarm.png')\n",
    "plt.close()\n",
    "# Perform variable elimination for inference\n",
    "# Variable elimination (VE) is a an exact inference algorithm in bayesian networks\n",
    "infer = pgmpy.inference.VariableElimination(model)\n",
    "# Calculate the probability of a burglary if John and Mary calls (0: True, 1: False)\n",
    "posterior_probability = infer.query(['Burglary'], evidence={'JohnCalls': 0, 'MaryCalls': 1})\n",
    "# Print posterior probability\n",
    "print('Posterior probability of Burglary if JohnCalls(True) and MaryCalls(True)')\n",
    "print(posterior_probability)\n",
    "print()\n",
    "# Calculate the probability of alarm starting if there is a burglary and an earthquake (0: True, 1: False)\n",
    "posterior_probability = infer.query(['Alarm'], evidence={'Burglary': 1, 'Earthquake': 0})\n",
    "# Print posterior probability\n",
    "print('Posterior probability of Alarm sounding if Burglary(True) and Earthquake(True)')\n",
    "print(posterior_probability)\n",
    "print()"
   ]
  },
  {
   "cell_type": "code",
   "execution_count": 4,
   "id": "6594093d",
   "metadata": {},
   "outputs": [
    {
     "name": "stdout",
     "output_type": "stream",
     "text": [
      "Collecting pgmpy\n",
      "  Downloading pgmpy-0.1.18-py3-none-any.whl (1.9 MB)\n",
      "Requirement already satisfied: statsmodels in c:\\programdata\\anaconda3\\lib\\site-packages (from pgmpy) (0.12.2)\n",
      "Requirement already satisfied: scipy in c:\\programdata\\anaconda3\\lib\\site-packages (from pgmpy) (1.7.1)\n",
      "Requirement already satisfied: pandas in c:\\programdata\\anaconda3\\lib\\site-packages (from pgmpy) (1.3.4)\n",
      "Requirement already satisfied: scikit-learn in c:\\programdata\\anaconda3\\lib\\site-packages (from pgmpy) (0.24.2)\n",
      "Collecting torch\n",
      "  Downloading torch-1.11.0-cp39-cp39-win_amd64.whl (157.9 MB)\n",
      "Requirement already satisfied: joblib in c:\\programdata\\anaconda3\\lib\\site-packages (from pgmpy) (1.1.0)\n",
      "Requirement already satisfied: pyparsing in c:\\programdata\\anaconda3\\lib\\site-packages (from pgmpy) (3.0.4)\n",
      "Requirement already satisfied: networkx in c:\\programdata\\anaconda3\\lib\\site-packages (from pgmpy) (2.6.3)\n",
      "Requirement already satisfied: numpy in c:\\programdata\\anaconda3\\lib\\site-packages (from pgmpy) (1.20.3)\n",
      "Requirement already satisfied: tqdm in c:\\programdata\\anaconda3\\lib\\site-packages (from pgmpy) (4.62.3)\n",
      "Requirement already satisfied: pytz>=2017.3 in c:\\programdata\\anaconda3\\lib\\site-packages (from pandas->pgmpy) (2021.3)\n",
      "Requirement already satisfied: python-dateutil>=2.7.3 in c:\\programdata\\anaconda3\\lib\\site-packages (from pandas->pgmpy) (2.8.2)\n",
      "Requirement already satisfied: six>=1.5 in c:\\programdata\\anaconda3\\lib\\site-packages (from python-dateutil>=2.7.3->pandas->pgmpy) (1.16.0)\n",
      "Requirement already satisfied: threadpoolctl>=2.0.0 in c:\\programdata\\anaconda3\\lib\\site-packages (from scikit-learn->pgmpy) (2.2.0)\n",
      "Requirement already satisfied: patsy>=0.5 in c:\\programdata\\anaconda3\\lib\\site-packages (from statsmodels->pgmpy) (0.5.2)\n",
      "Requirement already satisfied: typing-extensions in c:\\programdata\\anaconda3\\lib\\site-packages (from torch->pgmpy) (3.10.0.2)\n",
      "Requirement already satisfied: colorama in c:\\programdata\\anaconda3\\lib\\site-packages (from tqdm->pgmpy) (0.4.4)\n",
      "Installing collected packages: torch, pgmpy\n",
      "Successfully installed pgmpy-0.1.18 torch-1.11.0\n"
     ]
    }
   ],
   "source": [
    "!pip install pgmpy"
   ]
  },
  {
   "cell_type": "code",
   "execution_count": null,
   "id": "2022312a",
   "metadata": {},
   "outputs": [],
   "source": []
  }
 ],
 "metadata": {
  "kernelspec": {
   "display_name": "Python 3 (ipykernel)",
   "language": "python",
   "name": "python3"
  },
  "language_info": {
   "codemirror_mode": {
    "name": "ipython",
    "version": 3
   },
   "file_extension": ".py",
   "mimetype": "text/x-python",
   "name": "python",
   "nbconvert_exporter": "python",
   "pygments_lexer": "ipython3",
   "version": "3.9.7"
  }
 },
 "nbformat": 4,
 "nbformat_minor": 5
}
